{
 "cells": [
  {
   "cell_type": "code",
   "metadata": {
    "ExecuteTime": {
     "end_time": "2024-08-22T14:11:59.905378Z",
     "start_time": "2024-08-22T14:11:57.207963Z"
    }
   },
   "source": [
    "import ssl\n",
    "ssl._create_default_https_context = ssl._create_unverified_context\n",
    "import nltk\n",
    "from langchain_community.document_loaders import DirectoryLoader\n",
    "from dotenv import load_dotenv\n",
    "import os\n",
    "\n",
    "# Загрузка необходимого ресурса для NLTK\n",
    "nltk.download('punkt')\n",
    "\n",
    "# Загрузка переменных окружения\n",
    "load_dotenv()\n",
    "\n",
    "# Инициализация загрузчика\n",
    "loader = DirectoryLoader('data', glob=\"**/*.txt\")\n",
    "\n",
    "# Загрузка документов\n",
    "documents = loader.load()\n"
   ],
   "outputs": [
    {
     "name": "stderr",
     "output_type": "stream",
     "text": [
      "[nltk_data] Downloading package punkt to /Users/master/nltk_data...\n",
      "[nltk_data]   Package punkt is already up-to-date!\n"
     ]
    }
   ],
   "execution_count": 1
  },
  {
   "cell_type": "code",
   "metadata": {
    "ExecuteTime": {
     "end_time": "2024-08-22T14:12:01.640058Z",
     "start_time": "2024-08-22T14:12:01.636335Z"
    }
   },
   "source": [
    "print(documents)\n",
    "print(documents[0].page_content)"
   ],
   "outputs": [
    {
     "name": "stdout",
     "output_type": "stream",
     "text": [
      "[Document(page_content='Q: Какими бывают кукусики?\\n\\nA: Кукусики бывают фельдепёрстовые.\\n\\nQ: Что делает нашу пиццу уникальной? A: Наша пицца готовится по секретному семейному рецепту теста, вручную раскатывается и украшается свежими, местными ингредиентами. Мы используем традиционную дровяную печь, чтобы придать пицце характерный дымный вкус и хрустящую корочку.\\n\\nQ: Предлагаем ли мы варианты пиццы без глютена? A: Да, у нас есть вкусная безглютеновая корочка для гостей с диетическими ограничениями или предпочтениями.\\n\\nQ: Могут ли клиенты создать свою собственную пиццу? A: Конечно! Клиенты могут выбрать из множества свежих топпингов, чтобы создать свою уникальную пиццу-шедевр.\\n\\nQ: Какие наши самые популярные пиццы? A: Наши самые популярные пиццы — это Классическая Маргарита, Пепперони Суприм и Гурман Вегетарианская. Каждая из них предлагает уникальное сочетание вкусов, которое удовлетворяет разнообразные предпочтения.\\n\\nQ: Предлагаем ли мы веганские варианты пиццы? A: Да, у нас есть веганские пиццы, которые включают сыр без молочных продуктов и разнообразные свежие овощные топпинги.\\n\\nQ: Сколько времени занимает приготовление пиццы? A: В среднем, от момента заказа до готовности пиццы проходит около 15-20 минут. Это время необходимо, чтобы каждая пицца была идеально приготовлена.\\n\\nQ: Можно ли заказать пиццу на доставку? A: Да, мы предлагаем доставку в пределах определенного радиуса от нашего ресторана, чтобы вы могли наслаждаться нашей пиццей, не выходя из дома.\\n\\nQ: Какими бывают рештальдовые кукусики? A: Рештальдовые кукусики бывают исключительно калдобровсчатыми.', metadata={'source': 'data/text.txt'})]\n",
      "Q: Какими бывают кукусики?\n",
      "\n",
      "A: Кукусики бывают фельдепёрстовые.\n",
      "\n",
      "Q: Что делает нашу пиццу уникальной? A: Наша пицца готовится по секретному семейному рецепту теста, вручную раскатывается и украшается свежими, местными ингредиентами. Мы используем традиционную дровяную печь, чтобы придать пицце характерный дымный вкус и хрустящую корочку.\n",
      "\n",
      "Q: Предлагаем ли мы варианты пиццы без глютена? A: Да, у нас есть вкусная безглютеновая корочка для гостей с диетическими ограничениями или предпочтениями.\n",
      "\n",
      "Q: Могут ли клиенты создать свою собственную пиццу? A: Конечно! Клиенты могут выбрать из множества свежих топпингов, чтобы создать свою уникальную пиццу-шедевр.\n",
      "\n",
      "Q: Какие наши самые популярные пиццы? A: Наши самые популярные пиццы — это Классическая Маргарита, Пепперони Суприм и Гурман Вегетарианская. Каждая из них предлагает уникальное сочетание вкусов, которое удовлетворяет разнообразные предпочтения.\n",
      "\n",
      "Q: Предлагаем ли мы веганские варианты пиццы? A: Да, у нас есть веганские пиццы, которые включают сыр без молочных продуктов и разнообразные свежие овощные топпинги.\n",
      "\n",
      "Q: Сколько времени занимает приготовление пиццы? A: В среднем, от момента заказа до готовности пиццы проходит около 15-20 минут. Это время необходимо, чтобы каждая пицца была идеально приготовлена.\n",
      "\n",
      "Q: Можно ли заказать пиццу на доставку? A: Да, мы предлагаем доставку в пределах определенного радиуса от нашего ресторана, чтобы вы могли наслаждаться нашей пиццей, не выходя из дома.\n",
      "\n",
      "Q: Какими бывают рештальдовые кукусики? A: Рештальдовые кукусики бывают исключительно калдобровсчатыми.\n"
     ]
    }
   ],
   "execution_count": 2
  },
  {
   "cell_type": "code",
   "metadata": {
    "ExecuteTime": {
     "end_time": "2024-08-22T14:12:04.603780Z",
     "start_time": "2024-08-22T14:12:04.599897Z"
    }
   },
   "source": [
    "from langchain.text_splitter import CharacterTextSplitter\n",
    "\n",
    "text_splitter = CharacterTextSplitter(\n",
    "    separator=\"\\n\\n\",\n",
    "    chunk_size=250,\n",
    "    chunk_overlap=10,\n",
    "    length_function=len,\n",
    "    is_separator_regex=False,\n",
    ")"
   ],
   "outputs": [],
   "execution_count": 3
  },
  {
   "cell_type": "code",
   "metadata": {
    "ExecuteTime": {
     "end_time": "2024-08-22T14:12:07.734159Z",
     "start_time": "2024-08-22T14:12:07.724407Z"
    }
   },
   "source": [
    "chunks = text_splitter.split_documents(documents)\n",
    "chunks"
   ],
   "outputs": [
    {
     "name": "stderr",
     "output_type": "stream",
     "text": [
      "Created a chunk of size 274, which is longer than the specified 250\n"
     ]
    },
    {
     "data": {
      "text/plain": [
       "[Document(page_content='Q: Какими бывают кукусики?\\n\\nA: Кукусики бывают фельдепёрстовые.', metadata={'source': 'data/text.txt'}),\n",
       " Document(page_content='Q: Что делает нашу пиццу уникальной? A: Наша пицца готовится по секретному семейному рецепту теста, вручную раскатывается и украшается свежими, местными ингредиентами. Мы используем традиционную дровяную печь, чтобы придать пицце характерный дымный вкус и хрустящую корочку.', metadata={'source': 'data/text.txt'}),\n",
       " Document(page_content='Q: Предлагаем ли мы варианты пиццы без глютена? A: Да, у нас есть вкусная безглютеновая корочка для гостей с диетическими ограничениями или предпочтениями.', metadata={'source': 'data/text.txt'}),\n",
       " Document(page_content='Q: Могут ли клиенты создать свою собственную пиццу? A: Конечно! Клиенты могут выбрать из множества свежих топпингов, чтобы создать свою уникальную пиццу-шедевр.', metadata={'source': 'data/text.txt'}),\n",
       " Document(page_content='Q: Какие наши самые популярные пиццы? A: Наши самые популярные пиццы — это Классическая Маргарита, Пепперони Суприм и Гурман Вегетарианская. Каждая из них предлагает уникальное сочетание вкусов, которое удовлетворяет разнообразные предпочтения.', metadata={'source': 'data/text.txt'}),\n",
       " Document(page_content='Q: Предлагаем ли мы веганские варианты пиццы? A: Да, у нас есть веганские пиццы, которые включают сыр без молочных продуктов и разнообразные свежие овощные топпинги.', metadata={'source': 'data/text.txt'}),\n",
       " Document(page_content='Q: Сколько времени занимает приготовление пиццы? A: В среднем, от момента заказа до готовности пиццы проходит около 15-20 минут. Это время необходимо, чтобы каждая пицца была идеально приготовлена.', metadata={'source': 'data/text.txt'}),\n",
       " Document(page_content='Q: Можно ли заказать пиццу на доставку? A: Да, мы предлагаем доставку в пределах определенного радиуса от нашего ресторана, чтобы вы могли наслаждаться нашей пиццей, не выходя из дома.', metadata={'source': 'data/text.txt'}),\n",
       " Document(page_content='Q: Какими бывают рештальдовые кукусики? A: Рештальдовые кукусики бывают исключительно калдобровсчатыми.', metadata={'source': 'data/text.txt'})]"
      ]
     },
     "execution_count": 4,
     "metadata": {},
     "output_type": "execute_result"
    }
   ],
   "execution_count": 4
  },
  {
   "metadata": {},
   "cell_type": "markdown",
   "source": ""
  },
  {
   "cell_type": "code",
   "metadata": {
    "ExecuteTime": {
     "end_time": "2024-08-22T14:12:11.864431Z",
     "start_time": "2024-08-22T14:12:10.253932Z"
    }
   },
   "source": [
    "from langchain_openai import OpenAIEmbeddings\n",
    "from langchain_community.vectorstores import Chroma\n",
    "\n",
    "index = Chroma.from_documents(chunks, OpenAIEmbeddings())"
   ],
   "outputs": [],
   "execution_count": 5
  },
  {
   "cell_type": "code",
   "metadata": {
    "ExecuteTime": {
     "end_time": "2024-08-22T14:12:13.555402Z",
     "start_time": "2024-08-22T14:12:13.551062Z"
    }
   },
   "source": [
    "retriever = index.as_retriever()"
   ],
   "outputs": [],
   "execution_count": 6
  },
  {
   "cell_type": "code",
   "metadata": {
    "ExecuteTime": {
     "end_time": "2024-08-22T14:12:15.815700Z",
     "start_time": "2024-08-22T14:12:15.545599Z"
    }
   },
   "source": "retriever.get_relevant_documents(\"Какими бывают кукусики\")",
   "outputs": [
    {
     "data": {
      "text/plain": [
       "[Document(page_content='Q: Какими бывают кукусики?\\n\\nA: Кукусики бывают фельдепёрстовые.', metadata={'source': 'data/text.txt'}),\n",
       " Document(page_content='Q: Какими бывают рештальдовые кукусики? A: Рештальдовые кукусики бывают исключительно калдобровсчатыми.', metadata={'source': 'data/text.txt'}),\n",
       " Document(page_content='Q: Какие наши самые популярные пиццы? A: Наши самые популярные пиццы — это Классическая Маргарита, Пепперони Суприм и Гурман Вегетарианская. Каждая из них предлагает уникальное сочетание вкусов, которое удовлетворяет разнообразные предпочтения.', metadata={'source': 'data/text.txt'}),\n",
       " Document(page_content='Q: Что делает нашу пиццу уникальной? A: Наша пицца готовится по секретному семейному рецепту теста, вручную раскатывается и украшается свежими, местными ингредиентами. Мы используем традиционную дровяную печь, чтобы придать пицце характерный дымный вкус и хрустящую корочку.', metadata={'source': 'data/text.txt'})]"
      ]
     },
     "execution_count": 7,
     "metadata": {},
     "output_type": "execute_result"
    }
   ],
   "execution_count": 7
  },
  {
   "cell_type": "code",
   "metadata": {
    "ExecuteTime": {
     "end_time": "2024-08-22T14:12:18.609060Z",
     "start_time": "2024-08-22T14:12:18.606082Z"
    }
   },
   "source": [
    "from operator import itemgetter\n",
    "\n",
    "template = \"\"\"\n",
    "Ответь на вопрос используя следующий контекст:\n",
    "{context}\n",
    "\n",
    "Ответь на этот вопрос:\n",
    "Вопрос: {question}\n",
    "\"\"\""
   ],
   "outputs": [],
   "execution_count": 8
  },
  {
   "cell_type": "code",
   "metadata": {
    "ExecuteTime": {
     "end_time": "2024-08-22T14:12:20.595767Z",
     "start_time": "2024-08-22T14:12:20.548859Z"
    }
   },
   "source": [
    "from langchain_core.output_parsers import StrOutputParser\n",
    "from langchain_core.prompts import ChatPromptTemplate\n",
    "from langchain_openai import ChatOpenAI\n",
    "\n",
    "prompt = ChatPromptTemplate.from_template(template)\n",
    "model = ChatOpenAI(model_name=\"gpt-3.5-turbo\")"
   ],
   "outputs": [],
   "execution_count": 9
  },
  {
   "cell_type": "code",
   "metadata": {
    "ExecuteTime": {
     "end_time": "2024-08-22T14:12:22.015663Z",
     "start_time": "2024-08-22T14:12:22.011446Z"
    }
   },
   "source": [
    "rag_chain = (\n",
    "    {\n",
    "        \"context\": itemgetter(\"question\") | retriever,\n",
    "        \"question\": itemgetter(\"question\")\n",
    "    }\n",
    "    | prompt\n",
    "    | model\n",
    "    | StrOutputParser()\n",
    ")"
   ],
   "outputs": [],
   "execution_count": 10
  },
  {
   "cell_type": "code",
   "metadata": {
    "ExecuteTime": {
     "end_time": "2024-08-22T14:12:27.792937Z",
     "start_time": "2024-08-22T14:12:26.037502Z"
    }
   },
   "source": "rag_chain.invoke({\"question\": \"Какими бывают кукусики\"})",
   "outputs": [
    {
     "data": {
      "text/plain": [
       "'Ответ: Кукусики бывают фельдепёрстовые и рештальдовые, причем рештальдовые кукусики бывают исключительно калдобровсчатыми.'"
      ]
     },
     "execution_count": 12,
     "metadata": {},
     "output_type": "execute_result"
    }
   ],
   "execution_count": 12
  },
  {
   "metadata": {
    "ExecuteTime": {
     "end_time": "2024-08-22T14:12:31.873274Z",
     "start_time": "2024-08-22T14:12:30.475834Z"
    }
   },
   "cell_type": "code",
   "source": "rag_chain.invoke({\"question\": \"Долго готовится пицца?\"})\n",
   "outputs": [
    {
     "data": {
      "text/plain": [
       "'Ответ: В среднем, от момента заказа до готовности пиццы проходит около 15-20 минут.'"
      ]
     },
     "execution_count": 13,
     "metadata": {},
     "output_type": "execute_result"
    }
   ],
   "execution_count": 13
  },
  {
   "metadata": {},
   "cell_type": "code",
   "outputs": [],
   "execution_count": null,
   "source": ""
  }
 ],
 "metadata": {
  "kernelspec": {
   "display_name": "app",
   "language": "python",
   "name": "python3"
  },
  "language_info": {
   "codemirror_mode": {
    "name": "ipython",
    "version": 3
   },
   "file_extension": ".py",
   "mimetype": "text/x-python",
   "name": "python",
   "nbconvert_exporter": "python",
   "pygments_lexer": "ipython3",
   "version": "3.11.0"
  }
 },
 "nbformat": 4,
 "nbformat_minor": 2
}
